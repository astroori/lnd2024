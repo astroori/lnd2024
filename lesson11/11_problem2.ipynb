{
 "cells": [
  {
   "cell_type": "markdown",
   "source": [
    "В данном задании вы продолжаете работать с датасетом load_digits, разобранном на предыдущем занятии."
   ],
   "metadata": {
    "collapsed": false
   },
   "id": "ecb60e91f54e873d"
  },
  {
   "cell_type": "markdown",
   "source": [
    "В прошлый раз вам нужно было протестировать любой из изученных ранее инструментов предсказания на датасете load_digits. В сегодняшнем заданиии вам необходимо сравнить три предсказательных инструмента, изученных ранее, на данном датасете."
   ],
   "metadata": {
    "collapsed": false
   },
   "id": "65c9724bddee9627"
  },
  {
   "cell_type": "markdown",
   "source": [
    "Необходимо протестировать следующие инструменты: линейная регрессия, наивный байесовский классификатор, дерево решений. Для этого обучите каждый из инструментов с помощью части датасета load_digits, а затем получите предсказания (predict) с использованием вышеуказанных инструментов и сравните получившийся результат с правильным, расположенным в датасете. Вычислите количество ошибочных предсказаний для каждого из инструментов и сделайте вывод."
   ],
   "metadata": {
    "collapsed": false
   },
   "id": "89d6cb78c6880dc8"
  }
 ],
 "metadata": {
  "kernelspec": {
   "display_name": "Python 3",
   "language": "python",
   "name": "python3"
  },
  "language_info": {
   "codemirror_mode": {
    "name": "ipython",
    "version": 2
   },
   "file_extension": ".py",
   "mimetype": "text/x-python",
   "name": "python",
   "nbconvert_exporter": "python",
   "pygments_lexer": "ipython2",
   "version": "2.7.6"
  }
 },
 "nbformat": 4,
 "nbformat_minor": 5
}
