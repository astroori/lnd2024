{
 "cells": [
  {
   "cell_type": "markdown",
   "source": [
    "Задание является логическим продолжением задачи из урока 7 и выполняется с тем же самым файлом с данными 7_1.txt"
   ],
   "metadata": {
    "collapsed": false
   },
   "id": "93673759a6321660"
  },
  {
   "cell_type": "markdown",
   "source": [
    "В прошлом уроке вы прогнозировали выдачу или невыдачу кредита определённому клиенту, а также количество банков, которые выдадут кредит или откажут в выдаче. Теперь вам при помощи инструментов библиотеки scikit-learn необходимо объяснить алгоритм принятия решения о выдаче кредита. Т.е. с помощью некоторого инструмента вам нужно объяснить логику банков при выдаче кредита на основании данных из файла 7_1.txt"
   ],
   "metadata": {
    "collapsed": false
   },
   "id": "3f234f70ccd4cc89"
  }
 ],
 "metadata": {
  "kernelspec": {
   "display_name": "Python 3",
   "language": "python",
   "name": "python3"
  },
  "language_info": {
   "codemirror_mode": {
    "name": "ipython",
    "version": 2
   },
   "file_extension": ".py",
   "mimetype": "text/x-python",
   "name": "python",
   "nbconvert_exporter": "python",
   "pygments_lexer": "ipython2",
   "version": "2.7.6"
  }
 },
 "nbformat": 4,
 "nbformat_minor": 5
}
