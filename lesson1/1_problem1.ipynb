{
 "cells": [
  {
   "cell_type": "markdown",
   "id": "ce5a221e",
   "metadata": {},
   "source": [
    "Задача: Приведены 3 файла: 1_1.txt, 1_2.txt, 1_3.txt. Установите, в каком из файлов могут содержатся сведения о значениях IQ (коэффециента интеллекта), жителей некоторого среднестатистического города, предоставленных исследователями."
   ]
  },
  {
   "cell_type": "code",
   "execution_count": null,
   "outputs": [],
   "source": [],
   "metadata": {
    "collapsed": false
   },
   "id": "cd3fb3d46ccca1f0"
  },
  {
   "cell_type": "code",
   "execution_count": null,
   "outputs": [],
   "source": [],
   "metadata": {
    "collapsed": false
   },
   "id": "87a109a3b5f22e4c"
  }
 ],
 "metadata": {
  "kernelspec": {
   "display_name": "Python 3 (ipykernel)",
   "language": "python",
   "name": "python3"
  },
  "language_info": {
   "codemirror_mode": {
    "name": "ipython",
    "version": 3
   },
   "file_extension": ".py",
   "mimetype": "text/x-python",
   "name": "python",
   "nbconvert_exporter": "python",
   "pygments_lexer": "ipython3",
   "version": "3.9.13"
  }
 },
 "nbformat": 4,
 "nbformat_minor": 5
}
