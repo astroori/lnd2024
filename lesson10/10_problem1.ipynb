{
 "cells": [
  {
   "cell_type": "markdown",
   "source": [
    "Обычно соревнования по спортивным единоборствам проводятся в нескольких весовых категориях. В файле 10_1.txt содержится информация об участниках, зарегистрированных на соревнования по спортивным единоборствам. Каждая строка файла содержит описание одного спортсмена, состоящее из двух чисел. Первое число - рост спортсмена, второе - его вес."
   ],
   "metadata": {
    "collapsed": false
   },
   "id": "9083823f9792de43"
  },
  {
   "cell_type": "markdown",
   "source": [
    "Задача: с применением различных инструментов проанализируйте данные зарегистрированных участников и дайте жюри соревнований рекомендацию - на сколько весовых категорий целесообразно разделить всех участников соревнований."
   ],
   "metadata": {
    "collapsed": false
   },
   "id": "465a771451479d69"
  },
  {
   "cell_type": "markdown",
   "source": [],
   "metadata": {
    "collapsed": false
   },
   "id": "ec56de5c44a26801"
  }
 ],
 "metadata": {
  "kernelspec": {
   "display_name": "Python 3",
   "language": "python",
   "name": "python3"
  },
  "language_info": {
   "codemirror_mode": {
    "name": "ipython",
    "version": 2
   },
   "file_extension": ".py",
   "mimetype": "text/x-python",
   "name": "python",
   "nbconvert_exporter": "python",
   "pygments_lexer": "ipython2",
   "version": "2.7.6"
  }
 },
 "nbformat": 4,
 "nbformat_minor": 5
}
