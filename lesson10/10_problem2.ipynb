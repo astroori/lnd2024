{
 "cells": [
  {
   "cell_type": "markdown",
   "source": [
    " файле 10_2.txt содержится информация о результатах опроса клиентов премиального сегмента крупного банка об их материальном благополучии. В каждой строчке файла содержится информация об одном из клиентов банка. Первое число - средняя заработная плата клиента в месяц, второе число - площадь квартиры, которая имеется в собственности у клиента, третье число - стоимость последнего автомобиля, приобретённого клиентом."
   ],
   "metadata": {
    "collapsed": false
   },
   "id": "64a465b76b6ce3a3"
  },
  {
   "cell_type": "markdown",
   "source": [
    "Задача: С использованием различных инструментов предскажите, какую площадь квартиры скорее всего имеет клиент со среднемесячной заработной платой в 123800 рублей и купивший последний автомобиль за 2 млн 270 тыс рублей."
   ],
   "metadata": {
    "collapsed": false
   },
   "id": "56dfcf9c77f930a6"
  }
 ],
 "metadata": {
  "kernelspec": {
   "display_name": "Python 3",
   "language": "python",
   "name": "python3"
  },
  "language_info": {
   "codemirror_mode": {
    "name": "ipython",
    "version": 2
   },
   "file_extension": ".py",
   "mimetype": "text/x-python",
   "name": "python",
   "nbconvert_exporter": "python",
   "pygments_lexer": "ipython2",
   "version": "2.7.6"
  }
 },
 "nbformat": 4,
 "nbformat_minor": 5
}
