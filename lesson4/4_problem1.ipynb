{
 "cells": [
  {
   "cell_type": "markdown",
   "id": "acd82ade",
   "metadata": {},
   "source": [
    "В файле 4_1.txt содержится информация о 151 объекте. Информация о каждом объекте включает в себя два параметра - целые числа, записанные через пробел - результаты измерений объекта с помощью двух разных датчиков. \n",
    "Задача 1: определить, на сколько групп можно разделить указанные объекты исходя из показаний датчиков. \n",
    "Задача 2: определить объекты, которые не относятся ни к одной из групп."
   ]
  }
 ],
 "metadata": {
  "kernelspec": {
   "display_name": "Python 3 (ipykernel)",
   "language": "python",
   "name": "python3"
  },
  "language_info": {
   "codemirror_mode": {
    "name": "ipython",
    "version": 3
   },
   "file_extension": ".py",
   "mimetype": "text/x-python",
   "name": "python",
   "nbconvert_exporter": "python",
   "pygments_lexer": "ipython3",
   "version": "3.9.13"
  }
 },
 "nbformat": 4,
 "nbformat_minor": 5
}
