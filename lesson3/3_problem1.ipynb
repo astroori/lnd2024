{
 "cells": [
  {
   "cell_type": "markdown",
   "id": "e2c657c2",
   "metadata": {},
   "source": [
    "В файле 2_1.txt содержится информация о 100 объектах. Информация о каждом объекте включает в себя два параметра - целые числа, записанные через пробел - результаты измерений объекта с помощью двух разных датчиков. Задача 1: определить, на сколько групп можно разделить указанные объекты исходя из показаний датчиков. Задача 2: указать, к какой из групп принадлежит каждый объект."
   ]
  }
 ],
 "metadata": {
  "kernelspec": {
   "display_name": "Python 3 (ipykernel)",
   "language": "python",
   "name": "python3"
  },
  "language_info": {
   "codemirror_mode": {
    "name": "ipython",
    "version": 3
   },
   "file_extension": ".py",
   "mimetype": "text/x-python",
   "name": "python",
   "nbconvert_exporter": "python",
   "pygments_lexer": "ipython3",
   "version": "3.9.13"
  }
 },
 "nbformat": 4,
 "nbformat_minor": 5
}
