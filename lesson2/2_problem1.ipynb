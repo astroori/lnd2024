{
 "cells": [
  {
   "cell_type": "markdown",
   "source": [
    "В файлах 2_1.txt, 2_2.txt и 2_3.txt предоставлены данные о росте и весе людей. Определите файл, в котором скорее всего расположены данные о росте и весе студентов факультата физической культуры и спорта. Выбор файла должен быть чётко обоснован."
   ],
   "metadata": {
    "collapsed": false
   },
   "id": "77aca2a57b3bb85b"
  }
 ],
 "metadata": {
  "kernelspec": {
   "display_name": "Python 3",
   "language": "python",
   "name": "python3"
  },
  "language_info": {
   "codemirror_mode": {
    "name": "ipython",
    "version": 2
   },
   "file_extension": ".py",
   "mimetype": "text/x-python",
   "name": "python",
   "nbconvert_exporter": "python",
   "pygments_lexer": "ipython2",
   "version": "2.7.6"
  }
 },
 "nbformat": 4,
 "nbformat_minor": 5
}
