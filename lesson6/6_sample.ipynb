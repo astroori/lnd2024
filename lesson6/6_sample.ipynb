{
 "cells": [
  {
   "cell_type": "raw",
   "source": [
    "Вы уже умеете считывать данные, записанные по несколько чисел в строке. Однако для верного решения данной задачи потребуется небольшая подсказка. Рекомендуется распределить прочитанные данные по двум спискам. Первый список - информация о годовом потреблении продуктов питания, второй список - информация о заработной плате.\n",
    "Реализация считывания данных может выглядеть следующим образом:"
   ],
   "metadata": {
    "collapsed": false
   },
   "id": "199282341524c5c2"
  },
  {
   "cell_type": "code",
   "execution_count": 1,
   "outputs": [
    {
     "name": "stdout",
     "output_type": "stream",
     "text": [
      "[[65, 27, 11], [21, 64, 21], [57, 24, 9], [48, 35, 15], [12, 68, 18], [6, 79, 25], [19, 35, 8], [27, 39, 18], [16, 56, 15], [23, 48, 12], [29, 40, 11], [48, 29, 11], [55, 8, 5], [49, 9, 4], [35, 72, 21]]\n",
      "[[27600], [52350], [25980], [34560], [49670], [62420], [26400], [36490], [46520], [42980], [39980], [27830], [21740], [19430], [52394]]\n"
     ]
    }
   ],
   "source": [
    "f = open('6_1.txt', 'r')\n",
    "data = []\n",
    "salary = []\n",
    "for line in f:\n",
    "    p1, p2, p3, p4 = map(int, line.split())\n",
    "    data.append([p1, p2, p3])\n",
    "    salary.append([p4])\n",
    "print(data)\n",
    "print(salary)"
   ],
   "metadata": {
    "collapsed": false,
    "ExecuteTime": {
     "end_time": "2024-02-27T06:28:43.671814500Z",
     "start_time": "2024-02-27T06:28:43.654656600Z"
    }
   },
   "id": "1b3fe3efa9e28013"
  }
 ],
 "metadata": {
  "kernelspec": {
   "display_name": "Python 3",
   "language": "python",
   "name": "python3"
  },
  "language_info": {
   "codemirror_mode": {
    "name": "ipython",
    "version": 2
   },
   "file_extension": ".py",
   "mimetype": "text/x-python",
   "name": "python",
   "nbconvert_exporter": "python",
   "pygments_lexer": "ipython2",
   "version": "2.7.6"
  }
 },
 "nbformat": 4,
 "nbformat_minor": 5
}
