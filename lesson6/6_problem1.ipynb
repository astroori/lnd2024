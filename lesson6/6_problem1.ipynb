{
 "cells": [
  {
   "cell_type": "markdown",
   "id": "dd855711",
   "metadata": {},
   "source": [
    "В файле 6_1.txt содержится 4 параметра. Первые три - годовое потребление сосисок, мяса и рыбы в килограммах, четёртое число - среднемесячная заработная плата. По введённым показаниям потребления сосисок, мяса и рыбы предсказать среднюю заработную плату."
   ]
  }
 ],
 "metadata": {
  "kernelspec": {
   "display_name": "Python 3 (ipykernel)",
   "language": "python",
   "name": "python3"
  },
  "language_info": {
   "codemirror_mode": {
    "name": "ipython",
    "version": 3
   },
   "file_extension": ".py",
   "mimetype": "text/x-python",
   "name": "python",
   "nbconvert_exporter": "python",
   "pygments_lexer": "ipython3",
   "version": "3.9.13"
  }
 },
 "nbformat": 4,
 "nbformat_minor": 5
}
