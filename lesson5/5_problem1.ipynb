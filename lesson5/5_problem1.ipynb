{
 "cells": [
  {
   "cell_type": "markdown",
   "id": "6d5e3009",
   "metadata": {},
   "source": [
    "В файле 5_1.txt содержатся данные о 126 объектах. Каждый описывается с помощью 4-х параметров, не зависящих друг от друга. Известно, что все объекты, информация о которых записывалась в файл можно разделить на некоторое количество групп, однако при записи данного файла произошла ошибка и некоторые данные были записаны некорректно.  Задача 1: определить на сколько групп можно разделить объекты. Задача 2: определите те объекты, информация о которых была записана некорректно. "
   ]
  }
 ],
 "metadata": {
  "kernelspec": {
   "display_name": "Python 3 (ipykernel)",
   "language": "python",
   "name": "python3"
  },
  "language_info": {
   "codemirror_mode": {
    "name": "ipython",
    "version": 3
   },
   "file_extension": ".py",
   "mimetype": "text/x-python",
   "name": "python",
   "nbconvert_exporter": "python",
   "pygments_lexer": "ipython3",
   "version": "3.9.13"
  }
 },
 "nbformat": 4,
 "nbformat_minor": 5
}
