{
 "cells": [
  {
   "cell_type": "markdown",
   "source": [
    "Задание является продолжением нескольких предыдущих задач, связанных с принятием решения о выдаче или отказе в выдаче кредита и выполняется с тем же самым файлом 7_1.txt."
   ],
   "metadata": {
    "collapsed": false
   },
   "id": "675323ed1261efdd"
  },
  {
   "cell_type": "markdown",
   "source": [
    "Зачастую возникает ситуация, при которой количество критериев, для анализа данных оказывается слишком большим и приходится выбирать более важные критерии и отбрасывать менее важные. Вам необходимо с помощью инструментов библиотеки scikit-learn определить, какие критерии выдачи кредита являются более важными, а какими менее важными. Напоминаю, что в данном случае при выдаче кредита анализируется 3 критерия: возраст, заработная плата и наличие/отсутствие недвижимости."
   ],
   "metadata": {
    "collapsed": false
   },
   "id": "b35cfce672da8bd7"
  }
 ],
 "metadata": {
  "kernelspec": {
   "display_name": "Python 3",
   "language": "python",
   "name": "python3"
  },
  "language_info": {
   "codemirror_mode": {
    "name": "ipython",
    "version": 2
   },
   "file_extension": ".py",
   "mimetype": "text/x-python",
   "name": "python",
   "nbconvert_exporter": "python",
   "pygments_lexer": "ipython2",
   "version": "2.7.6"
  }
 },
 "nbformat": 4,
 "nbformat_minor": 5
}
